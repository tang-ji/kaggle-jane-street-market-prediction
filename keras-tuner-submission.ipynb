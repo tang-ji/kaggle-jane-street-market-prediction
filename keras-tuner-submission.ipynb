{
 "cells": [
  {
   "cell_type": "code",
   "execution_count": 1,
   "metadata": {
    "_cell_guid": "b1076dfc-b9ad-4769-8c92-a6c4dae69d19",
    "_kg_hide-input": true,
    "_kg_hide-output": true,
    "_uuid": "8f2839f25d086af736a60e9eeb907d3b93b6e0e5",
    "collapsed": true,
    "execution": {
     "iopub.execute_input": "2020-12-31T23:12:34.445951Z",
     "iopub.status.busy": "2020-12-31T23:12:34.445163Z",
     "iopub.status.idle": "2020-12-31T23:12:41.790147Z",
     "shell.execute_reply": "2020-12-31T23:12:41.791459Z"
    },
    "papermill": {
     "duration": 7.368843,
     "end_time": "2020-12-31T23:12:41.791720",
     "exception": false,
     "start_time": "2020-12-31T23:12:34.422877",
     "status": "completed"
    },
    "tags": []
   },
   "outputs": [],
   "source": [
    "from tensorflow.keras.layers import Input, Dense, BatchNormalization, Dropout, Concatenate, Lambda, GaussianNoise, Activation\n",
    "from tensorflow.keras.models import Model, Sequential\n",
    "from tensorflow.keras.losses import BinaryCrossentropy\n",
    "from tensorflow.keras.optimizers import Adam\n",
    "from tensorflow.keras.callbacks import EarlyStopping, ReduceLROnPlateau\n",
    "from tensorflow.keras.layers.experimental.preprocessing import Normalization\n",
    "import tensorflow as tf\n",
    "import numpy as np\n",
    "import pandas as pd\n",
    "from sklearn.model_selection import GroupKFold\n",
    "\n",
    "from tqdm import tqdm\n",
    "from random import choices\n",
    "import random\n",
    "\n",
    "import seaborn as sns\n",
    "import matplotlib.pyplot as plt\n",
    "import kerastuner as kt\n",
    "import os"
   ]
  },
  {
   "cell_type": "code",
   "execution_count": 2,
   "metadata": {
    "execution": {
     "iopub.execute_input": "2020-12-31T23:12:41.832780Z",
     "iopub.status.busy": "2020-12-31T23:12:41.831820Z",
     "iopub.status.idle": "2020-12-31T23:12:41.855988Z",
     "shell.execute_reply": "2020-12-31T23:12:41.857087Z"
    },
    "papermill": {
     "duration": 0.049587,
     "end_time": "2020-12-31T23:12:41.857277",
     "exception": false,
     "start_time": "2020-12-31T23:12:41.807690",
     "status": "completed"
    },
    "tags": []
   },
   "outputs": [],
   "source": [
    "def utility_score_bincount(date, weight, resp, action):\n",
    "    count_i = len(np.unique(date))\n",
    "    Pi = np.bincount(date, weight * resp * action)\n",
    "    t = np.sum(Pi) / np.sqrt(np.sum(Pi ** 2)) * np.sqrt(250 / count_i)\n",
    "    u = np.clip(t, 0, 6) * np.sum(Pi)\n",
    "    return u\n",
    "    \n",
    "class LiteModel:\n",
    "    \n",
    "    @classmethod\n",
    "    def from_file(cls, model_path):\n",
    "        return LiteModel(tf.lite.Interpreter(model_path=model_path))\n",
    "    \n",
    "    @classmethod\n",
    "    def from_keras_model(cls, kmodel):\n",
    "        converter = tf.lite.TFLiteConverter.from_keras_model(kmodel)\n",
    "        tflite_model = converter.convert()\n",
    "        return LiteModel(tf.lite.Interpreter(model_content=tflite_model))\n",
    "    \n",
    "    def __init__(self, interpreter):\n",
    "        self.interpreter = interpreter\n",
    "        self.interpreter.allocate_tensors()\n",
    "        input_det = self.interpreter.get_input_details()[0]\n",
    "        output_det = self.interpreter.get_output_details()[0]\n",
    "        self.input_index = input_det[\"index\"]\n",
    "        self.output_index = output_det[\"index\"]\n",
    "        self.input_shape = input_det[\"shape\"]\n",
    "        self.output_shape = output_det[\"shape\"]\n",
    "        self.input_dtype = input_det[\"dtype\"]\n",
    "        self.output_dtype = output_det[\"dtype\"]\n",
    "        \n",
    "    def predict(self, inp):\n",
    "        inp = inp.astype(self.input_dtype)\n",
    "        count = inp.shape[0]\n",
    "        out = np.zeros((count, self.output_shape[1]), dtype=self.output_dtype)\n",
    "        for i in range(count):\n",
    "            self.interpreter.set_tensor(self.input_index, inp[i:i+1])\n",
    "            self.interpreter.invoke()\n",
    "            out[i] = self.interpreter.get_tensor(self.output_index)[0]\n",
    "        return out\n",
    "    \n",
    "    def predict_single(self, inp):\n",
    "        \"\"\" Like predict(), but only for a single record. The input data can be a Python list. \"\"\"\n",
    "        inp = np.array([inp], dtype=self.input_dtype)\n",
    "        self.interpreter.set_tensor(self.input_index, inp)\n",
    "        self.interpreter.invoke()\n",
    "        out = self.interpreter.get_tensor(self.output_index)\n",
    "        return out[0]"
   ]
  },
  {
   "cell_type": "code",
   "execution_count": 3,
   "metadata": {
    "_kg_hide-input": true,
    "_kg_hide-output": true,
    "execution": {
     "iopub.execute_input": "2020-12-31T23:12:41.893968Z",
     "iopub.status.busy": "2020-12-31T23:12:41.893061Z",
     "iopub.status.idle": "2020-12-31T23:15:24.854304Z",
     "shell.execute_reply": "2020-12-31T23:15:24.853081Z"
    },
    "papermill": {
     "duration": 162.98392,
     "end_time": "2020-12-31T23:15:24.854447",
     "exception": false,
     "start_time": "2020-12-31T23:12:41.870527",
     "status": "completed"
    },
    "tags": []
   },
   "outputs": [],
   "source": [
    "train = pd.read_csv('../input/jane-street-market-prediction/train.csv')\n",
    "train = train.query('date > 90').reset_index(drop = True) \n",
    "train = train.astype({c: np.float32 for c in train.select_dtypes(include='float64').columns}) #limit memory use\n",
    "train = train.query('weight > 0').reset_index(drop = True)\n",
    "train.fillna(train.mean(),inplace=True)\n",
    "features = [c for c in train.columns if 'feature' in c]\n",
    "\n",
    "from sklearn.preprocessing import MinMaxScaler\n",
    "scaler = MinMaxScaler()\n",
    "X = scaler.fit_transform(train[features].values)\n",
    "# X = train[features].values\n",
    "\n",
    "y = (train['resp'] > 0).astype('int')\n",
    "f_mean = np.mean(train[features[1:]].values,axis=0)"
   ]
  },
  {
   "cell_type": "code",
   "execution_count": 4,
   "metadata": {
    "execution": {
     "iopub.execute_input": "2020-12-31T23:15:24.898121Z",
     "iopub.status.busy": "2020-12-31T23:15:24.896298Z",
     "iopub.status.idle": "2020-12-31T23:15:24.898979Z",
     "shell.execute_reply": "2020-12-31T23:15:24.899460Z"
    },
    "papermill": {
     "duration": 0.035216,
     "end_time": "2020-12-31T23:15:24.899595",
     "exception": false,
     "start_time": "2020-12-31T23:15:24.864379",
     "status": "completed"
    },
    "tags": []
   },
   "outputs": [],
   "source": [
    "## v1\n",
    "def create_autoencoder(input_dim,output_dim,noise=0.05):\n",
    "    i = Input(input_dim)\n",
    "    encoded = BatchNormalization()(i)\n",
    "    encoded = GaussianNoise(noise)(encoded)\n",
    "    encoded = Dense(256,activation='sigmoid')(encoded)\n",
    "    encoded = BatchNormalization()(encoded)\n",
    "    encoded = Dropout(0.2)(encoded)\n",
    "    \n",
    "    encoded = Dense(256,activation='sigmoid')(encoded)\n",
    "    \n",
    "    decoded = BatchNormalization()(encoded)\n",
    "    decoded = Dropout(0.2)(decoded)\n",
    "    decoded = Dense(256,activation='sigmoid')(decoded)\n",
    "    decoded = BatchNormalization()(decoded)\n",
    "    decoded = Dropout(0.2)(decoded)\n",
    "    decoded = Dense(input_dim,activation='sigmoid',name='decoded')(decoded)\n",
    "    \n",
    "    x = Dense(256)(decoded)\n",
    "    x = BatchNormalization()(x)\n",
    "    x = Lambda(tf.keras.activations.swish)(x)\n",
    "    x = Dropout(0.2)(x)\n",
    "    x = Dense(output_dim,activation='sigmoid',name='label_output')(x)\n",
    "    \n",
    "    encoder = Model(inputs=i,outputs=decoded)\n",
    "    autoencoder = Model(inputs=i,outputs=[decoded,x])\n",
    "    \n",
    "    autoencoder.compile(optimizer=Adam(0.01),loss={'decoded':'mse','label_output':'mse'})\n",
    "    return autoencoder, encoder\n",
    "\n",
    "def create_model(hp,input_dim,output_dim,encoder):\n",
    "    inputs = Input(input_dim)\n",
    "    \n",
    "    x = encoder(inputs)\n",
    "    x = Concatenate()([x,inputs]) #use both raw and de-noised features\n",
    "    x = BatchNormalization()(x)\n",
    "    x = Dropout(hp.Float('init_dropout',0.0,0.5))(x)\n",
    "    \n",
    "    for i in range(hp.Int('num_layers',1,3)):\n",
    "        x = Dense(hp.Int('num_units_{i}',64,256))(x)\n",
    "        x = BatchNormalization()(x)\n",
    "        x = Lambda(tf.keras.activations.swish)(x)\n",
    "        x = Dropout(hp.Float(f'dropout_{i}',0.0,0.5))(x)\n",
    "    x = Dense(output_dim,activation='sigmoid')(x)\n",
    "    model = Model(inputs=inputs,outputs=x)\n",
    "    model.compile(optimizer=Adam(hp.Fixed('lr',0.01)),loss=BinaryCrossentropy(label_smoothing=hp.Float('label_smoothing',0.0,0.1)),metrics=[tf.keras.metrics.AUC(name = 'auc')])\n",
    "    return model"
   ]
  },
  {
   "cell_type": "code",
   "execution_count": 5,
   "metadata": {
    "_kg_hide-input": true,
    "_kg_hide-output": true,
    "execution": {
     "iopub.execute_input": "2020-12-31T23:15:24.923038Z",
     "iopub.status.busy": "2020-12-31T23:15:24.922283Z",
     "iopub.status.idle": "2020-12-31T23:15:24.926784Z",
     "shell.execute_reply": "2020-12-31T23:15:24.926143Z"
    },
    "papermill": {
     "duration": 0.017588,
     "end_time": "2020-12-31T23:15:24.926891",
     "exception": false,
     "start_time": "2020-12-31T23:15:24.909303",
     "status": "completed"
    },
    "tags": []
   },
   "outputs": [],
   "source": [
    "# %%time\n",
    "# SEEDS = [2000, 5000]\n",
    "# FOLDS = 5\n",
    "# models = []\n",
    "# for SEED in SEEDS:\n",
    "#     _, encoder = create_autoencoder(X.shape[-1],1,noise=0.1)\n",
    "#     encoder.load_weights(f'../input/jane-street-models-v1/encoder_{SEED}.hdf5')\n",
    "#     model_fn = lambda hp: create_model(hp,X.shape[-1],1,encoder)\n",
    "#     hp = pd.read_pickle(f'../input/bottleneck-encoder-mlp-keras-tuner/best_hp_{SEED}.pkl')\n",
    "#     for f in range(FOLDS):\n",
    "#         model = model_fn(hp)\n",
    "#         model.load_weights(f'../input/bottleneck-encoder-mlp-keras-tuner/model_{SEED}_{f}_finetune.hdf5')\n",
    "#         model = LiteModel.from_keras_model(model)\n",
    "#         models.append(model)"
   ]
  },
  {
   "cell_type": "code",
   "execution_count": 6,
   "metadata": {
    "execution": {
     "iopub.execute_input": "2020-12-31T23:15:24.965151Z",
     "iopub.status.busy": "2020-12-31T23:15:24.959678Z",
     "iopub.status.idle": "2020-12-31T23:15:24.968315Z",
     "shell.execute_reply": "2020-12-31T23:15:24.967634Z"
    },
    "papermill": {
     "duration": 0.031404,
     "end_time": "2020-12-31T23:15:24.968416",
     "exception": false,
     "start_time": "2020-12-31T23:15:24.937012",
     "status": "completed"
    },
    "tags": []
   },
   "outputs": [],
   "source": [
    "## v2\n",
    "def create_autoencoder(input_dim,output_dim,noise=0.05):\n",
    "    i = Input(input_dim)\n",
    "    encoded = BatchNormalization()(i)\n",
    "    encoded = GaussianNoise(noise)(encoded)\n",
    "    encoded = Dense(800,activation='relu')(encoded)\n",
    "    decoded = Dropout(0.5)(encoded)\n",
    "    decoded = Dense(input_dim,name='decoded')(decoded)\n",
    "    x = Dense(320,activation='relu')(decoded)\n",
    "    x = BatchNormalization()(x)\n",
    "    x = Dropout(0.5)(x)\n",
    "    x = Dense(output_dim,activation='sigmoid',name='label_output')(x)\n",
    "    \n",
    "    encoder = Model(inputs=i,outputs=encoded)\n",
    "    autoencoder = Model(inputs=i,outputs=[decoded,x])\n",
    "    \n",
    "    autoencoder.compile(optimizer=Adam(0.001),loss={'decoded':'mse','label_output':'binary_crossentropy'})\n",
    "    return autoencoder, encoder\n",
    "\n",
    "def create_model(hp,input_dim,output_dim,encoder):\n",
    "    inputs = Input(input_dim)\n",
    "    \n",
    "    x = encoder(inputs)\n",
    "    x = Concatenate()([x,inputs]) #use both raw and de-noised features\n",
    "    x = BatchNormalization()(x)\n",
    "    x = Dropout(hp.Float('init_dropout',0.1,0.5))(x)\n",
    "    \n",
    "    for i in range(hp.Int('num_layers',1,3)):\n",
    "        x = Dense(hp.Int(f'num_units_{i}',100,300))(x)\n",
    "        x = BatchNormalization()(x)\n",
    "        x = Lambda(tf.keras.activations.swish)(x)\n",
    "        x = Dropout(hp.Float(f'dropout_{i}',0.1,0.5))(x)\n",
    "    x = Dense(output_dim,activation='sigmoid')(x)\n",
    "    model = Model(inputs=inputs,outputs=x)\n",
    "    model.compile(optimizer=Adam(hp.Fixed('lr',0.01)),loss=BinaryCrossentropy(label_smoothing=hp.Float('label_smoothing',0.0,0.1)),metrics=[tf.keras.metrics.AUC(name = 'auc')])\n",
    "    return model"
   ]
  },
  {
   "cell_type": "code",
   "execution_count": 7,
   "metadata": {
    "execution": {
     "iopub.execute_input": "2020-12-31T23:15:24.996581Z",
     "iopub.status.busy": "2020-12-31T23:15:24.995911Z",
     "iopub.status.idle": "2020-12-31T23:17:02.663628Z",
     "shell.execute_reply": "2020-12-31T23:17:02.664363Z"
    },
    "papermill": {
     "duration": 97.685415,
     "end_time": "2020-12-31T23:17:02.664559",
     "exception": false,
     "start_time": "2020-12-31T23:15:24.979144",
     "status": "completed"
    },
    "tags": []
   },
   "outputs": [
    {
     "name": "stdout",
     "output_type": "stream",
     "text": [
      "CPU times: user 1min 31s, sys: 1.13 s, total: 1min 32s\n",
      "Wall time: 1min 37s\n"
     ]
    }
   ],
   "source": [
    "%%time\n",
    "SEEDS = [5, 10, 15, 20]\n",
    "FOLDS = 5\n",
    "models = []\n",
    "for SEED in SEEDS:\n",
    "    _, encoder = create_autoencoder(X.shape[-1],1,noise=0.1)\n",
    "    encoder.load_weights(f'../input/jane-street-models-v2/encoder_{SEED}.hdf5')\n",
    "    model_fn = lambda hp: create_model(hp,X.shape[-1],1,encoder)\n",
    "    hp = pd.read_pickle(f'../input/jane-street-models-v2/best_hp_{SEED}.pkl')\n",
    "    for f in range(FOLDS):\n",
    "        model = model_fn(hp)\n",
    "        model.load_weights(f'../input/jane-street-models-v2/model_{SEED}_{f}_finetune.hdf5')\n",
    "        model = LiteModel.from_keras_model(model)\n",
    "        models.append(model)"
   ]
  },
  {
   "cell_type": "markdown",
   "metadata": {
    "papermill": {
     "duration": 0.011767,
     "end_time": "2020-12-31T23:17:02.688225",
     "exception": false,
     "start_time": "2020-12-31T23:17:02.676458",
     "status": "completed"
    },
    "tags": []
   },
   "source": [
    "## Submission"
   ]
  },
  {
   "cell_type": "code",
   "execution_count": 8,
   "metadata": {
    "execution": {
     "iopub.execute_input": "2020-12-31T23:17:02.726801Z",
     "iopub.status.busy": "2020-12-31T23:17:02.725956Z",
     "iopub.status.idle": "2020-12-31T23:21:51.961292Z",
     "shell.execute_reply": "2020-12-31T23:21:51.960406Z"
    },
    "papermill": {
     "duration": 289.257352,
     "end_time": "2020-12-31T23:21:51.961476",
     "exception": false,
     "start_time": "2020-12-31T23:17:02.704124",
     "status": "completed"
    },
    "tags": []
   },
   "outputs": [
    {
     "name": "stderr",
     "output_type": "stream",
     "text": [
      "15219it [04:49, 52.62it/s]\n"
     ]
    }
   ],
   "source": [
    "import janestreet\n",
    "# f = lambda x: np.sum(np.around(x))/len(models) #Majority voting\n",
    "#janestreet.competition.make_env.__called__ = False\n",
    "env = janestreet.make_env()\n",
    "th = 0.5\n",
    "for (test_df, pred_df) in tqdm(env.iter_test()):\n",
    "    if test_df['weight'].item() > 0:\n",
    "        x_tt = test_df.loc[:, features].values\n",
    "        if np.isnan(x_tt[:, 1:].sum()):\n",
    "            x_tt[:, 1:] = np.nan_to_num(x_tt[:, 1:]) + np.isnan(x_tt[:, 1:]) * f_mean\n",
    "        pred = np.mean([model.predict(scaler.transform(x_tt)) for model in models], axis=0)\n",
    "        pred = np.mean(pred)\n",
    "        pred_df.action = np.where(pred > th, 1, 0).astype(int)\n",
    "    else:\n",
    "        pred_df.action = 0\n",
    "    env.predict(pred_df)"
   ]
  },
  {
   "cell_type": "code",
   "execution_count": 9,
   "metadata": {
    "execution": {
     "iopub.execute_input": "2020-12-31T23:21:53.863744Z",
     "iopub.status.busy": "2020-12-31T23:21:53.862791Z",
     "iopub.status.idle": "2020-12-31T23:21:53.880910Z",
     "shell.execute_reply": "2020-12-31T23:21:53.881480Z"
    },
    "papermill": {
     "duration": 0.949222,
     "end_time": "2020-12-31T23:21:53.881615",
     "exception": false,
     "start_time": "2020-12-31T23:21:52.932393",
     "status": "completed"
    },
    "tags": []
   },
   "outputs": [
    {
     "data": {
      "text/html": [
       "<div>\n",
       "<style scoped>\n",
       "    .dataframe tbody tr th:only-of-type {\n",
       "        vertical-align: middle;\n",
       "    }\n",
       "\n",
       "    .dataframe tbody tr th {\n",
       "        vertical-align: top;\n",
       "    }\n",
       "\n",
       "    .dataframe thead th {\n",
       "        text-align: right;\n",
       "    }\n",
       "</style>\n",
       "<table border=\"1\" class=\"dataframe\">\n",
       "  <thead>\n",
       "    <tr style=\"text-align: right;\">\n",
       "      <th></th>\n",
       "      <th>ts_id</th>\n",
       "      <th>action</th>\n",
       "    </tr>\n",
       "  </thead>\n",
       "  <tbody>\n",
       "    <tr>\n",
       "      <th>0</th>\n",
       "      <td>0</td>\n",
       "      <td>0</td>\n",
       "    </tr>\n",
       "    <tr>\n",
       "      <th>1</th>\n",
       "      <td>1</td>\n",
       "      <td>0</td>\n",
       "    </tr>\n",
       "    <tr>\n",
       "      <th>2</th>\n",
       "      <td>2</td>\n",
       "      <td>0</td>\n",
       "    </tr>\n",
       "    <tr>\n",
       "      <th>3</th>\n",
       "      <td>3</td>\n",
       "      <td>0</td>\n",
       "    </tr>\n",
       "    <tr>\n",
       "      <th>4</th>\n",
       "      <td>4</td>\n",
       "      <td>1</td>\n",
       "    </tr>\n",
       "  </tbody>\n",
       "</table>\n",
       "</div>"
      ],
      "text/plain": [
       "   ts_id  action\n",
       "0      0       0\n",
       "1      1       0\n",
       "2      2       0\n",
       "3      3       0\n",
       "4      4       1"
      ]
     },
     "execution_count": 9,
     "metadata": {},
     "output_type": "execute_result"
    }
   ],
   "source": [
    "submission = pd.read_csv('./submission.csv')\n",
    "submission.head()"
   ]
  },
  {
   "cell_type": "code",
   "execution_count": 10,
   "metadata": {
    "execution": {
     "iopub.execute_input": "2020-12-31T23:21:55.740767Z",
     "iopub.status.busy": "2020-12-31T23:21:55.740096Z",
     "iopub.status.idle": "2020-12-31T23:21:55.946424Z",
     "shell.execute_reply": "2020-12-31T23:21:55.945428Z"
    },
    "papermill": {
     "duration": 1.151718,
     "end_time": "2020-12-31T23:21:55.946577",
     "exception": false,
     "start_time": "2020-12-31T23:21:54.794859",
     "status": "completed"
    },
    "tags": []
   },
   "outputs": [
    {
     "data": {
      "image/png": "[encoded data removed]",
      "text/plain": [
       "<Figure size 432x288 with 1 Axes>"
      ]
     },
     "metadata": {
      "needs_background": "light"
     },
     "output_type": "display_data"
    }
   ],
   "source": [
    "sns.countplot(submission.action);"
   ]
  },
  {
   "cell_type": "code",
   "execution_count": null,
   "metadata": {
    "papermill": {
     "duration": 0.937178,
     "end_time": "2020-12-31T23:21:57.822075",
     "exception": false,
     "start_time": "2020-12-31T23:21:56.884897",
     "status": "completed"
    },
    "tags": []
   },
   "outputs": [],
   "source": []
  }
 ],
 "metadata": {
  "kernelspec": {
   "display_name": "Python 3",
   "language": "python",
   "name": "python3"
  },
  "language_info": {
   "codemirror_mode": {
    "name": "ipython",
    "version": 3
   },
   "file_extension": ".py",
   "mimetype": "text/x-python",
   "name": "python",
   "nbconvert_exporter": "python",
   "pygments_lexer": "ipython3",
   "version": "3.7.7"
  },
  "papermill": {
   "duration": 571.200881,
   "end_time": "2020-12-31T23:22:00.418548",
   "environment_variables": {},
   "exception": null,
   "input_path": "__notebook__.ipynb",
   "output_path": "__notebook__.ipynb",
   "parameters": {},
   "start_time": "2020-12-31T23:12:29.217667",
   "version": "2.1.0"
  }
 },
 "nbformat": 4,
 "nbformat_minor": 4
}
